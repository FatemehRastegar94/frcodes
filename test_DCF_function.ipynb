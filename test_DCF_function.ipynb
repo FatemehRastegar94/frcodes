Cut the trajectory and recalculate the DCF for it:
Main trajectory for the time-averaged image:
Size: 128* 52000*3
n_RO: 128
N_spokes: 13000
N_FE: 4 (comp+FEx+FEy+FEz)

Traj: 1:500


Traj: 1:3000


Traj: 1:10000


Traj:1:26000


Traj:1:30000


Traj: 1:40000


Traj: 1:41000


Traj: 1:45000

Traj: 1:50000

Traj : 1:51000


